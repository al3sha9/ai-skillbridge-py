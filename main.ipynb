{
 "cells": [
  {
   "cell_type": "code",
   "execution_count": 3,
   "id": "565dd940",
   "metadata": {},
   "outputs": [
    {
     "name": "stderr",
     "output_type": "stream",
     "text": [
      "[nltk_data] Downloading package stopwords to /home/ali/nltk_data...\n",
      "[nltk_data]   Package stopwords is already up-to-date!\n",
      "[nltk_data] Downloading package punkt to /home/ali/nltk_data...\n",
      "[nltk_data]   Package punkt is already up-to-date!\n",
      "[nltk_data] Downloading package punkt_tab to /home/ali/nltk_data...\n",
      "[nltk_data]   Package punkt_tab is already up-to-date!\n"
     ]
    },
    {
     "data": {
      "text/plain": [
       "True"
      ]
     },
     "execution_count": 3,
     "metadata": {},
     "output_type": "execute_result"
    }
   ],
   "source": [
    "import nltk\n",
    "nltk.download(\"stopwords\")\n",
    "nltk.download(\"punkt\")\n",
    "nltk.download(\"punkt_tab\")"
   ]
  },
  {
   "cell_type": "code",
   "execution_count": 4,
   "id": "e127c41b",
   "metadata": {},
   "outputs": [],
   "source": [
    "import pandas as pd\n",
    "import re # for regular expressions\n",
    "from nltk.corpus import stopwords\n",
    "from nltk.tokenize import word_tokenize"
   ]
  },
  {
   "cell_type": "code",
   "execution_count": 5,
   "id": "7ac1c1c5",
   "metadata": {},
   "outputs": [
    {
     "name": "stdout",
     "output_type": "stream",
     "text": [
      "Collecting en-core-web-sm==3.8.0\n",
      "  Downloading https://github.com/explosion/spacy-models/releases/download/en_core_web_sm-3.8.0/en_core_web_sm-3.8.0-py3-none-any.whl (12.8 MB)\n",
      "\u001b[2K     \u001b[38;2;114;156;31m━━━━━━━━━━━━━━━━━━━━━━━━━━━━━━━━━━━━━━━━\u001b[0m \u001b[32m12.8/12.8 MB\u001b[0m \u001b[31m13.5 MB/s\u001b[0m eta \u001b[36m0:00:00\u001b[0m[36m0:00:01\u001b[0mm eta \u001b[36m0:00:01\u001b[0m\n",
      "\u001b[?25h\u001b[38;5;2m✔ Download and installation successful\u001b[0m\n",
      "You can now load the package via spacy.load('en_core_web_sm')\n",
      "\u001b[38;5;3m⚠ Restart to reload dependencies\u001b[0m\n",
      "If you are in a Jupyter or Colab notebook, you may need to restart Python in\n",
      "order to load all the package's dependencies. You can do this by selecting the\n",
      "'Restart kernel' or 'Restart runtime' option.\n"
     ]
    }
   ],
   "source": [
    "import spacy\n",
    "spacy.cli.download(\"en_core_web_sm\")\n",
    "nlp = spacy.load(\"en_core_web_sm\")"
   ]
  },
  {
   "cell_type": "code",
   "execution_count": 6,
   "id": "f8d38256",
   "metadata": {},
   "outputs": [
    {
     "name": "stdout",
     "output_type": "stream",
     "text": [
      "first 5 rows of the dataset\n"
     ]
    },
    {
     "data": {
      "text/html": [
       "<div>\n",
       "<style scoped>\n",
       "    .dataframe tbody tr th:only-of-type {\n",
       "        vertical-align: middle;\n",
       "    }\n",
       "\n",
       "    .dataframe tbody tr th {\n",
       "        vertical-align: top;\n",
       "    }\n",
       "\n",
       "    .dataframe thead th {\n",
       "        text-align: right;\n",
       "    }\n",
       "</style>\n",
       "<table border=\"1\" class=\"dataframe\">\n",
       "  <thead>\n",
       "    <tr style=\"text-align: right;\">\n",
       "      <th></th>\n",
       "      <th>review</th>\n",
       "      <th>sentiment</th>\n",
       "    </tr>\n",
       "  </thead>\n",
       "  <tbody>\n",
       "    <tr>\n",
       "      <th>0</th>\n",
       "      <td>One of the other reviewers has mentioned that after watching just 1 Oz episode you'll be hooked. They are right, as this is exactly what happened with me.&lt;br /&gt;&lt;br /&gt;The first thing that struck me about Oz was its brutality and unflinching scenes of violence, which set in right from the word GO. Trust me, this is not a show for the faint hearted or timid. This show pulls no punches with regards to drugs, sex or violence. Its is hardcore, in the classic use of the word.&lt;br /&gt;&lt;br /&gt;It is called OZ as that is the nickname given to the Oswald Maximum Security State Penitentary. It focuses mainly on Emerald City, an experimental section of the prison where all the cells have glass fronts and face inwards, so privacy is not high on the agenda. Em City is home to many..Aryans, Muslims, gangstas, Latinos, Christians, Italians, Irish and more....so scuffles, death stares, dodgy dealings and shady agreements are never far away.&lt;br /&gt;&lt;br /&gt;I would say the main appeal of the show is due to the fact that it goes where other shows wouldn't dare. Forget pretty pictures painted for mainstream audiences, forget charm, forget romance...OZ doesn't mess around. The first episode I ever saw struck me as so nasty it was surreal, I couldn't say I was ready for it, but as I watched more, I developed a taste for Oz, and got accustomed to the high levels of graphic violence. Not just violence, but injustice (crooked guards who'll be sold out for a nickel, inmates who'll kill on order and get away with it, well mannered, middle class inmates being turned into prison bitches due to their lack of street skills or prison experience) Watching Oz, you may become comfortable with what is uncomfortable viewing....thats if you can get in touch with your darker side.</td>\n",
       "      <td>positive</td>\n",
       "    </tr>\n",
       "    <tr>\n",
       "      <th>1</th>\n",
       "      <td>A wonderful little production. &lt;br /&gt;&lt;br /&gt;The filming technique is very unassuming- very old-time-BBC fashion and gives a comforting, and sometimes discomforting, sense of realism to the entire piece. &lt;br /&gt;&lt;br /&gt;The actors are extremely well chosen- Michael Sheen not only \"has got all the polari\" but he has all the voices down pat too! You can truly see the seamless editing guided by the references to Williams' diary entries, not only is it well worth the watching but it is a terrificly written and performed piece. A masterful production about one of the great master's of comedy and his life. &lt;br /&gt;&lt;br /&gt;The realism really comes home with the little things: the fantasy of the guard which, rather than use the traditional 'dream' techniques remains solid then disappears. It plays on our knowledge and our senses, particularly with the scenes concerning Orton and Halliwell and the sets (particularly of their flat with Halliwell's murals decorating every surface) are terribly well done.</td>\n",
       "      <td>positive</td>\n",
       "    </tr>\n",
       "    <tr>\n",
       "      <th>2</th>\n",
       "      <td>I thought this was a wonderful way to spend time on a too hot summer weekend, sitting in the air conditioned theater and watching a light-hearted comedy. The plot is simplistic, but the dialogue is witty and the characters are likable (even the well bread suspected serial killer). While some may be disappointed when they realize this is not Match Point 2: Risk Addiction, I thought it was proof that Woody Allen is still fully in control of the style many of us have grown to love.&lt;br /&gt;&lt;br /&gt;This was the most I'd laughed at one of Woody's comedies in years (dare I say a decade?). While I've never been impressed with Scarlet Johanson, in this she managed to tone down her \"sexy\" image and jumped right into a average, but spirited young woman.&lt;br /&gt;&lt;br /&gt;This may not be the crown jewel of his career, but it was wittier than \"Devil Wears Prada\" and more interesting than \"Superman\" a great comedy to go see with friends.</td>\n",
       "      <td>positive</td>\n",
       "    </tr>\n",
       "    <tr>\n",
       "      <th>3</th>\n",
       "      <td>Basically there's a family where a little boy (Jake) thinks there's a zombie in his closet &amp; his parents are fighting all the time.&lt;br /&gt;&lt;br /&gt;This movie is slower than a soap opera... and suddenly, Jake decides to become Rambo and kill the zombie.&lt;br /&gt;&lt;br /&gt;OK, first of all when you're going to make a film you must Decide if its a thriller or a drama! As a drama the movie is watchable. Parents are divorcing &amp; arguing like in real life. And then we have Jake with his closet which totally ruins all the film! I expected to see a BOOGEYMAN similar movie, and instead i watched a drama with some meaningless thriller spots.&lt;br /&gt;&lt;br /&gt;3 out of 10 just for the well playing parents &amp; descent dialogs. As for the shots with Jake: just ignore them.</td>\n",
       "      <td>negative</td>\n",
       "    </tr>\n",
       "    <tr>\n",
       "      <th>4</th>\n",
       "      <td>Petter Mattei's \"Love in the Time of Money\" is a visually stunning film to watch. Mr. Mattei offers us a vivid portrait about human relations. This is a movie that seems to be telling us what money, power and success do to people in the different situations we encounter. &lt;br /&gt;&lt;br /&gt;This being a variation on the Arthur Schnitzler's play about the same theme, the director transfers the action to the present time New York where all these different characters meet and connect. Each one is connected in one way, or another to the next person, but no one seems to know the previous point of contact. Stylishly, the film has a sophisticated luxurious look. We are taken to see how these people live and the world they live in their own habitat.&lt;br /&gt;&lt;br /&gt;The only thing one gets out of all these souls in the picture is the different stages of loneliness each one inhabits. A big city is not exactly the best place in which human relations find sincere fulfillment, as one discerns is the case with most of the people we encounter.&lt;br /&gt;&lt;br /&gt;The acting is good under Mr. Mattei's direction. Steve Buscemi, Rosario Dawson, Carol Kane, Michael Imperioli, Adrian Grenier, and the rest of the talented cast, make these characters come alive.&lt;br /&gt;&lt;br /&gt;We wish Mr. Mattei good luck and await anxiously for his next work.</td>\n",
       "      <td>positive</td>\n",
       "    </tr>\n",
       "  </tbody>\n",
       "</table>\n",
       "</div>"
      ],
      "text/plain": [
       "                                                                                                                                                                                                                                                                                                                                                                                                                                                                                                                                                                                                                                                                                                                                                                                                                                                                                                                                                                                                                                                                                                                                                                                                                                                                                                                                                                                                                                                                                                                                                                                                                                                                                                                                                                                                                              review  \\\n",
       "0  One of the other reviewers has mentioned that after watching just 1 Oz episode you'll be hooked. They are right, as this is exactly what happened with me.<br /><br />The first thing that struck me about Oz was its brutality and unflinching scenes of violence, which set in right from the word GO. Trust me, this is not a show for the faint hearted or timid. This show pulls no punches with regards to drugs, sex or violence. Its is hardcore, in the classic use of the word.<br /><br />It is called OZ as that is the nickname given to the Oswald Maximum Security State Penitentary. It focuses mainly on Emerald City, an experimental section of the prison where all the cells have glass fronts and face inwards, so privacy is not high on the agenda. Em City is home to many..Aryans, Muslims, gangstas, Latinos, Christians, Italians, Irish and more....so scuffles, death stares, dodgy dealings and shady agreements are never far away.<br /><br />I would say the main appeal of the show is due to the fact that it goes where other shows wouldn't dare. Forget pretty pictures painted for mainstream audiences, forget charm, forget romance...OZ doesn't mess around. The first episode I ever saw struck me as so nasty it was surreal, I couldn't say I was ready for it, but as I watched more, I developed a taste for Oz, and got accustomed to the high levels of graphic violence. Not just violence, but injustice (crooked guards who'll be sold out for a nickel, inmates who'll kill on order and get away with it, well mannered, middle class inmates being turned into prison bitches due to their lack of street skills or prison experience) Watching Oz, you may become comfortable with what is uncomfortable viewing....thats if you can get in touch with your darker side.   \n",
       "1                                                                                                                                                                                                                                                                                                                                                                                                                                                                                                                                                                                                                                                                                                                                                                                             A wonderful little production. <br /><br />The filming technique is very unassuming- very old-time-BBC fashion and gives a comforting, and sometimes discomforting, sense of realism to the entire piece. <br /><br />The actors are extremely well chosen- Michael Sheen not only \"has got all the polari\" but he has all the voices down pat too! You can truly see the seamless editing guided by the references to Williams' diary entries, not only is it well worth the watching but it is a terrificly written and performed piece. A masterful production about one of the great master's of comedy and his life. <br /><br />The realism really comes home with the little things: the fantasy of the guard which, rather than use the traditional 'dream' techniques remains solid then disappears. It plays on our knowledge and our senses, particularly with the scenes concerning Orton and Halliwell and the sets (particularly of their flat with Halliwell's murals decorating every surface) are terribly well done.   \n",
       "2                                                                                                                                                                                                                                                                                                                                                                                                                                                                                                                                                                                                                                                                                                                                                                                                                                                                     I thought this was a wonderful way to spend time on a too hot summer weekend, sitting in the air conditioned theater and watching a light-hearted comedy. The plot is simplistic, but the dialogue is witty and the characters are likable (even the well bread suspected serial killer). While some may be disappointed when they realize this is not Match Point 2: Risk Addiction, I thought it was proof that Woody Allen is still fully in control of the style many of us have grown to love.<br /><br />This was the most I'd laughed at one of Woody's comedies in years (dare I say a decade?). While I've never been impressed with Scarlet Johanson, in this she managed to tone down her \"sexy\" image and jumped right into a average, but spirited young woman.<br /><br />This may not be the crown jewel of his career, but it was wittier than \"Devil Wears Prada\" and more interesting than \"Superman\" a great comedy to go see with friends.   \n",
       "3                                                                                                                                                                                                                                                                                                                                                                                                                                                                                                                                                                                                                                                                                                                                                                                                                                                                                                                                                                                                                                                       Basically there's a family where a little boy (Jake) thinks there's a zombie in his closet & his parents are fighting all the time.<br /><br />This movie is slower than a soap opera... and suddenly, Jake decides to become Rambo and kill the zombie.<br /><br />OK, first of all when you're going to make a film you must Decide if its a thriller or a drama! As a drama the movie is watchable. Parents are divorcing & arguing like in real life. And then we have Jake with his closet which totally ruins all the film! I expected to see a BOOGEYMAN similar movie, and instead i watched a drama with some meaningless thriller spots.<br /><br />3 out of 10 just for the well playing parents & descent dialogs. As for the shots with Jake: just ignore them.   \n",
       "4                                                                                                                                                                                                                                                                                                                                                                                                                                                              Petter Mattei's \"Love in the Time of Money\" is a visually stunning film to watch. Mr. Mattei offers us a vivid portrait about human relations. This is a movie that seems to be telling us what money, power and success do to people in the different situations we encounter. <br /><br />This being a variation on the Arthur Schnitzler's play about the same theme, the director transfers the action to the present time New York where all these different characters meet and connect. Each one is connected in one way, or another to the next person, but no one seems to know the previous point of contact. Stylishly, the film has a sophisticated luxurious look. We are taken to see how these people live and the world they live in their own habitat.<br /><br />The only thing one gets out of all these souls in the picture is the different stages of loneliness each one inhabits. A big city is not exactly the best place in which human relations find sincere fulfillment, as one discerns is the case with most of the people we encounter.<br /><br />The acting is good under Mr. Mattei's direction. Steve Buscemi, Rosario Dawson, Carol Kane, Michael Imperioli, Adrian Grenier, and the rest of the talented cast, make these characters come alive.<br /><br />We wish Mr. Mattei good luck and await anxiously for his next work.   \n",
       "\n",
       "  sentiment  \n",
       "0  positive  \n",
       "1  positive  \n",
       "2  positive  \n",
       "3  negative  \n",
       "4  positive  "
      ]
     },
     "metadata": {},
     "output_type": "display_data"
    }
   ],
   "source": [
    "# set pandas to display full text for better inspection\n",
    "pd.set_option(\"display.max_colwidth\", None)\n",
    "\n",
    "#load the dataaset from the csv file\n",
    "\n",
    "try:\n",
    "    df= pd.read_csv(\"imdb_DataSet.csv\")\n",
    "except FileNotFoundError:\n",
    "    print(\"error: file not found\")\n",
    "\n",
    "#display the first five rows and columns\n",
    "print(\"first 5 rows of the dataset\")\n",
    "display(df.head())"
   ]
  },
  {
   "cell_type": "code",
   "execution_count": 7,
   "id": "5ea2e2e7",
   "metadata": {},
   "outputs": [
    {
     "name": "stdout",
     "output_type": "stream",
     "text": [
      "\n",
      "Dataset information\n",
      "<class 'pandas.core.frame.DataFrame'>\n",
      "RangeIndex: 50000 entries, 0 to 49999\n",
      "Data columns (total 2 columns):\n",
      " #   Column     Non-Null Count  Dtype \n",
      "---  ------     --------------  ----- \n",
      " 0   review     50000 non-null  object\n",
      " 1   sentiment  50000 non-null  object\n",
      "dtypes: object(2)\n",
      "memory usage: 781.4+ KB\n"
     ]
    }
   ],
   "source": [
    "print(\"\\nDataset information\")\n",
    "df.info()"
   ]
  },
  {
   "cell_type": "code",
   "execution_count": 8,
   "id": "aaf7b35e",
   "metadata": {},
   "outputs": [
    {
     "name": "stdout",
     "output_type": "stream",
     "text": [
      "\n",
      "Sentiment Distribution: \n",
      "sentiment\n",
      "positive    25000\n",
      "negative    25000\n",
      "Name: count, dtype: int64\n"
     ]
    }
   ],
   "source": [
    "print(\"\\nSentiment Distribution: \")\n",
    "print(df[\"sentiment\"].value_counts())"
   ]
  },
  {
   "cell_type": "code",
   "execution_count": null,
   "id": "a97dc0b1",
   "metadata": {},
   "outputs": [],
   "source": []
  },
  {
   "cell_type": "code",
   "execution_count": 9,
   "id": "5dd13969",
   "metadata": {},
   "outputs": [
    {
     "data": {
      "text/plain": [
       "{'a',\n",
       " 'about',\n",
       " 'above',\n",
       " 'after',\n",
       " 'again',\n",
       " 'against',\n",
       " 'ain',\n",
       " 'all',\n",
       " 'am',\n",
       " 'an',\n",
       " 'and',\n",
       " 'any',\n",
       " 'are',\n",
       " 'aren',\n",
       " \"aren't\",\n",
       " 'as',\n",
       " 'at',\n",
       " 'be',\n",
       " 'because',\n",
       " 'been',\n",
       " 'before',\n",
       " 'being',\n",
       " 'below',\n",
       " 'between',\n",
       " 'both',\n",
       " 'but',\n",
       " 'by',\n",
       " 'can',\n",
       " 'couldn',\n",
       " \"couldn't\",\n",
       " 'd',\n",
       " 'did',\n",
       " 'didn',\n",
       " \"didn't\",\n",
       " 'do',\n",
       " 'does',\n",
       " 'doesn',\n",
       " \"doesn't\",\n",
       " 'doing',\n",
       " 'don',\n",
       " \"don't\",\n",
       " 'down',\n",
       " 'during',\n",
       " 'each',\n",
       " 'few',\n",
       " 'for',\n",
       " 'from',\n",
       " 'further',\n",
       " 'had',\n",
       " 'hadn',\n",
       " \"hadn't\",\n",
       " 'has',\n",
       " 'hasn',\n",
       " \"hasn't\",\n",
       " 'have',\n",
       " 'haven',\n",
       " \"haven't\",\n",
       " 'having',\n",
       " 'he',\n",
       " \"he'd\",\n",
       " \"he'll\",\n",
       " \"he's\",\n",
       " 'her',\n",
       " 'here',\n",
       " 'hers',\n",
       " 'herself',\n",
       " 'him',\n",
       " 'himself',\n",
       " 'his',\n",
       " 'how',\n",
       " 'i',\n",
       " \"i'd\",\n",
       " \"i'll\",\n",
       " \"i'm\",\n",
       " \"i've\",\n",
       " 'if',\n",
       " 'in',\n",
       " 'into',\n",
       " 'is',\n",
       " 'isn',\n",
       " \"isn't\",\n",
       " 'it',\n",
       " \"it'd\",\n",
       " \"it'll\",\n",
       " \"it's\",\n",
       " 'its',\n",
       " 'itself',\n",
       " 'just',\n",
       " 'll',\n",
       " 'm',\n",
       " 'ma',\n",
       " 'me',\n",
       " 'mightn',\n",
       " \"mightn't\",\n",
       " 'more',\n",
       " 'most',\n",
       " 'mustn',\n",
       " \"mustn't\",\n",
       " 'my',\n",
       " 'myself',\n",
       " 'needn',\n",
       " \"needn't\",\n",
       " 'no',\n",
       " 'nor',\n",
       " 'not',\n",
       " 'now',\n",
       " 'o',\n",
       " 'of',\n",
       " 'off',\n",
       " 'on',\n",
       " 'once',\n",
       " 'only',\n",
       " 'or',\n",
       " 'other',\n",
       " 'our',\n",
       " 'ours',\n",
       " 'ourselves',\n",
       " 'out',\n",
       " 'over',\n",
       " 'own',\n",
       " 're',\n",
       " 's',\n",
       " 'same',\n",
       " 'shan',\n",
       " \"shan't\",\n",
       " 'she',\n",
       " \"she'd\",\n",
       " \"she'll\",\n",
       " \"she's\",\n",
       " 'should',\n",
       " \"should've\",\n",
       " 'shouldn',\n",
       " \"shouldn't\",\n",
       " 'so',\n",
       " 'some',\n",
       " 'such',\n",
       " 't',\n",
       " 'than',\n",
       " 'that',\n",
       " \"that'll\",\n",
       " 'the',\n",
       " 'their',\n",
       " 'theirs',\n",
       " 'them',\n",
       " 'themselves',\n",
       " 'then',\n",
       " 'there',\n",
       " 'these',\n",
       " 'they',\n",
       " \"they'd\",\n",
       " \"they'll\",\n",
       " \"they're\",\n",
       " \"they've\",\n",
       " 'this',\n",
       " 'those',\n",
       " 'through',\n",
       " 'to',\n",
       " 'too',\n",
       " 'under',\n",
       " 'until',\n",
       " 'up',\n",
       " 've',\n",
       " 'very',\n",
       " 'was',\n",
       " 'wasn',\n",
       " \"wasn't\",\n",
       " 'we',\n",
       " \"we'd\",\n",
       " \"we'll\",\n",
       " \"we're\",\n",
       " \"we've\",\n",
       " 'were',\n",
       " 'weren',\n",
       " \"weren't\",\n",
       " 'what',\n",
       " 'when',\n",
       " 'where',\n",
       " 'which',\n",
       " 'while',\n",
       " 'who',\n",
       " 'whom',\n",
       " 'why',\n",
       " 'will',\n",
       " 'with',\n",
       " 'won',\n",
       " \"won't\",\n",
       " 'wouldn',\n",
       " \"wouldn't\",\n",
       " 'y',\n",
       " 'you',\n",
       " \"you'd\",\n",
       " \"you'll\",\n",
       " \"you're\",\n",
       " \"you've\",\n",
       " 'your',\n",
       " 'yours',\n",
       " 'yourself',\n",
       " 'yourselves'}"
      ]
     },
     "execution_count": 9,
     "metadata": {},
     "output_type": "execute_result"
    }
   ],
   "source": [
    "stop_words = set(stopwords.words('english'))\n",
    "stop_words"
   ]
  },
  {
   "cell_type": "code",
   "execution_count": 11,
   "id": "0d53d044",
   "metadata": {},
   "outputs": [],
   "source": [
    "def preprocess_text(text):\n",
    "    \"\"\"\n",
    "    Cleans and preprocesses a single text string.\n",
    "    1. Removes HTML tags\n",
    "    2. Lowercases text\n",
    "    3. Removes punctuation and numbers\n",
    "    4. Tokenizes text\n",
    "    5. Removes stop words\n",
    "    6. Lemmatizes words\n",
    "    \"\"\"\n",
    "    text = re.sub(r'<.*?>', '', text)\n",
    "    text = text.lower()\n",
    "    text = re.sub(r'[^a-z\\s]', '', text)\n",
    "    tokens = word_tokenize(text)\n",
    "    tokens = [word for word in tokens if word not in stop_words]\n",
    "    \n",
    "    # Lemmatization is often better than stemming\n",
    "    text = ' '.join(tokens)\n",
    "    doc = nlp(text)\n",
    "    lemmatized_tokens = [token.lemma_ for token in doc]\n",
    "    \n",
    "    return ' '.join(lemmatized_tokens)"
   ]
  },
  {
   "cell_type": "code",
   "execution_count": 19,
   "id": "a4f6f835",
   "metadata": {},
   "outputs": [
    {
     "name": "stdout",
     "output_type": "stream",
     "text": [
      "preprocessing all 50,000 reviews... this may take a while\n",
      "preprocessing completed\n",
      "\n",
      "Comparing original vs cleaned reviews:\n"
     ]
    },
    {
     "data": {
      "text/html": [
       "<div>\n",
       "<style scoped>\n",
       "    .dataframe tbody tr th:only-of-type {\n",
       "        vertical-align: middle;\n",
       "    }\n",
       "\n",
       "    .dataframe tbody tr th {\n",
       "        vertical-align: top;\n",
       "    }\n",
       "\n",
       "    .dataframe thead th {\n",
       "        text-align: right;\n",
       "    }\n",
       "</style>\n",
       "<table border=\"1\" class=\"dataframe\">\n",
       "  <thead>\n",
       "    <tr style=\"text-align: right;\">\n",
       "      <th></th>\n",
       "      <th>review</th>\n",
       "      <th>cleaned_review</th>\n",
       "    </tr>\n",
       "  </thead>\n",
       "  <tbody>\n",
       "    <tr>\n",
       "      <th>33750</th>\n",
       "      <td>Reading the other user comments, the review by A666333 has articulated most of what I was feeling throughout this film- predictable storyline, cliché versions of lesbians/heterosexuals (i.e. straight woman becomes a lesbian while concluding that her husband is abusive and aggressive). &lt;br /&gt;&lt;br /&gt;Also, the score was severely disappointing. It was bland, soft, sentimental elevator music- another common cliché in movies about lesbians. The movie would have had a few interesting dramatic moments if they had not been destroyed by the music.&lt;br /&gt;&lt;br /&gt;A few scenes concerning sex and eroticism also struck me as attempts to titillate and raise shock value, including parts of the final performance scene. The conventional \"hot and steamy\" moments were as boring as the overly sentimental score. For example during the pool scene, the women are kissing, and then the camera pans along the abandoned wine glass, the flowing water, the sound of their heavy breathing over the soft crashing of waves.&lt;br /&gt;&lt;br /&gt;The only elements I liked were the costuming and arobatics. They are well-choreographed, and the development of attraction between the two characters felt very natural during the training scenes. I genuinely smiled during those, and during the last scene with the police officer. But they were not enough to balance out the negatives or make me enjoy this film.</td>\n",
       "      <td>read user comment review articulate feeling throughout film predictable storyline clich version lesbiansheterosexual ie straight woman become lesbian conclude husband abusive aggressive also score severely disappointing bland soft sentimental elevator music another common clich movie lesbian movie would interesting dramatic moment destroy musica scene concern sex eroticism also strike attempt titillate raise shock value include part final performance scene conventional hot steamy moment bore overly sentimental score example pool scene woman kiss camera pan along abandon wine glass flow water sound heavy breathing soft crash wavesthe element like costume arobatic wellchoreographe development attraction two character feel natural training scene genuinely smile last scene police officer enough balance negative make enjoy film</td>\n",
       "    </tr>\n",
       "    <tr>\n",
       "      <th>12273</th>\n",
       "      <td>Happy 25th Birthday to Valley Girl! Great soundtrack, plausible story, wonderful performances...captures the spirit of the 80's; the slang of the mainstreams and the outcasts. A wonderful rendition of high school life and \"gritty downtown\" from a suburban perspective.&lt;br /&gt;&lt;br /&gt;The soundtrack contains songs by Modern English, Felony, Josie Cotton, Sparks, Payola$, Josie Cotton, The Plimsouls, The Psychedelic Furs, Men At Work, The Flirts and Bananarama.&lt;br /&gt;&lt;br /&gt;This movie truly is Romeo and Juliet (minus the double suicide) set in 1980's Los Angeles. Julie's dad, played by Frederic Forrest (Sonny Bono, anyone?) is hysterical as a hippie idealistic dad who wonders how he sprung such a materialistic offspring. Yet, he doesn't judge, ya dig??</td>\n",
       "      <td>happy th birthday valley girl great soundtrack plausible story wonderful performancescapture spirit slang mainstreams outcast wonderful rendition high school life gritty downtown suburban perspectivethe soundtrack contain song modern english felony josie cotton spark payola josie cotton plimsouls psychedelic fur man work flirt bananaramathis movie truly romeo juliet minus double suicide set los angeles july dad play frederic forrest sonny bono anyone hysterical hippie idealistic dad wonder spring materialistic offspring yet do not judge ya dig</td>\n",
       "    </tr>\n",
       "    <tr>\n",
       "      <th>18703</th>\n",
       "      <td>Seeing the title of this movie \"Stupid Teenagers Must Die\" made me believe this was a spoof of some kind. I discovered later on the original title was \"Blood and Guts\". Both titles are misleading, though. This is not a spoof, neither a serious splatter movie. This is something in between, failing in both areas. A group of teenagers is attending a séance at a spooky house and then the killing starts. Sounds over familiar, doesn't it. Well, this movies adds nothing whatsoever to the endless stream of similar movies. And it is badly made. Because of the lack of light the entire film is grainy. Now this effect can be highly effective, but it isn't in this case. The young cast isn't acting too badly, but the director has no clue as what to do with actors. In numerous scenes the actors are clearly waiting for directions, but these are given too late. It could also be an editor's mistake, of course. The characters are unrealistic and the story line just stinks. The sound is terrible at times: conversations are undecipherable, but when talking loudly or screaming the actors are very loud indeed.&lt;br /&gt;&lt;br /&gt;This is not the worst horror movie I have ever seen, but it still is a bad one. For me a 3 out of 10.</td>\n",
       "      <td>see title movie stupid teenager must die make believe spoof kind discover later original title blood gut title mislead though spoof neither serious splatter movie something fail area group teenager attend sance spooky house killing start sound familiar do not well movie add nothing whatsoever endless stream similar movie badly make lack light entire film grainy effect highly effective be not case young cast be not act badly director clue actor numerous scene actor clearly wait direction give late could also editor mistake course character unrealistic story line stink sound terrible time conversation undecipherable talk loudly scream actor loud indeedthis bad horror movie ever see still bad one</td>\n",
       "    </tr>\n",
       "    <tr>\n",
       "      <th>11228</th>\n",
       "      <td>What is this crap? My little cousin picked this out obviously for the overly girlie DVD art and title... I decided to watch it with her so she didn't get bored, and I sure was appalled at the horrible quality.&lt;br /&gt;&lt;br /&gt;First, the acting was terrible. They seem like amateur actresses reading off of cue cards. The delivery is sub-par and very formulaic. Scene cuts were terrible.. it looks like they took it straight from the story board, if there was one.&lt;br /&gt;&lt;br /&gt;Secondly, the jokes and stereotypes weren't original or well played at all- again, very formulaic. I can't count the times I was able to predict the next joke. I got a few chuckles out of the blatantly \"subtle\" sexual innuendos. The Cat, The Beaver Patch, Hung Wong?.. c'mon! Just.. stay away from this movie. It's not cute, it's not funny, it's not even stupid-funny. It's just stupid-stupid. It's like a PG kids' movie with unnecessary sexual innuendo, vulgarity, and violence to bump the MPAA rating. STAY AWAY.&lt;br /&gt;&lt;br /&gt;\"Would you like to ride my yacht?\"&lt;br /&gt;&lt;br /&gt;\"Is that what they're calling it now?\"&lt;br /&gt;&lt;br /&gt;\"You could ride my ding.\"&lt;br /&gt;&lt;br /&gt;\"Oh! I think I got blood on my stool!\"&lt;br /&gt;&lt;br /&gt;Badly played, sir.</td>\n",
       "      <td>crap little cousin pick obviously overly girlie dvd art title decide watch do not get bored sure appal horrible qualityfirst act terrible seem like amateur actress read cue card delivery subpar formulaic scene cut terrible look like take straight story board onesecondly joke stereotype be not original well play formulaic can not count time able predict next joke get chuckle blatantly subtle sexual innuendos cat beaver patch hung wong cmon stay away movie cute funny even stupidfunny stupidstupid like pg kid movie unnecessary sexual innuendo vulgarity violence bump mpaa rating stay awaywould like ride yachtis they re call nowyou could ride dingoh think get blood stoolbadly play sir</td>\n",
       "    </tr>\n",
       "    <tr>\n",
       "      <th>22910</th>\n",
       "      <td>I'm not really sure where to begin. From start to finish, bad, stinky bad, like stepping into a port-a-john on a 100 degree day. If you force yourself to watch this as I did, keep some Vicodin handy for the pain. I will never understand how flicks this bad make it past the cutting room without the entire reel ending up on the floor. The movie is a cross between Gumby rides Pokey, meets the terminator, meets Wally Beaver playing cowboys and Indians without the cowboys. I've seen better animation in the original cut of the Blob. You will get more entertainment from watching Gone with the Wind while suffering from the puke and poops. Bad acting and hokey lines will have you squirming and wishing you had rented Peewee's big Top or watched every episode of Gilligan's Island back to back. UGH..I'm going to go slit my wrist now.</td>\n",
       "      <td>I m really sure begin start finish bad stinky bad like step portajohn degree day force watch keep vicodin handy pain never understand flick bad make past cutting room without entire reel end floor movie cross gumby ride pokey meet terminator meet wally beaver play cowboy indians without cowboy I ve see well animation original cut blob get entertainment watching go wind suffer puke poop bad act hokey line squirm wish rent peewee big top watch every episode gilligan island back back ughim go go slit wrist</td>\n",
       "    </tr>\n",
       "  </tbody>\n",
       "</table>\n",
       "</div>"
      ],
      "text/plain": [
       "                                                                                                                                                                                                                                                                                                                                                                                                                                                                                                                                                                                                                                                                                                                                                                                                                                                                                                                                                                                                                                                                                                                                                                                                                                                                                                                                                                                                                            review  \\\n",
       "33750  Reading the other user comments, the review by A666333 has articulated most of what I was feeling throughout this film- predictable storyline, cliché versions of lesbians/heterosexuals (i.e. straight woman becomes a lesbian while concluding that her husband is abusive and aggressive). <br /><br />Also, the score was severely disappointing. It was bland, soft, sentimental elevator music- another common cliché in movies about lesbians. The movie would have had a few interesting dramatic moments if they had not been destroyed by the music.<br /><br />A few scenes concerning sex and eroticism also struck me as attempts to titillate and raise shock value, including parts of the final performance scene. The conventional \"hot and steamy\" moments were as boring as the overly sentimental score. For example during the pool scene, the women are kissing, and then the camera pans along the abandoned wine glass, the flowing water, the sound of their heavy breathing over the soft crashing of waves.<br /><br />The only elements I liked were the costuming and arobatics. They are well-choreographed, and the development of attraction between the two characters felt very natural during the training scenes. I genuinely smiled during those, and during the last scene with the police officer. But they were not enough to balance out the negatives or make me enjoy this film.   \n",
       "12273                                                                                                                                                                                                                                                                                                                                                                                                                                                                                                                                                                                                                                            Happy 25th Birthday to Valley Girl! Great soundtrack, plausible story, wonderful performances...captures the spirit of the 80's; the slang of the mainstreams and the outcasts. A wonderful rendition of high school life and \"gritty downtown\" from a suburban perspective.<br /><br />The soundtrack contains songs by Modern English, Felony, Josie Cotton, Sparks, Payola$, Josie Cotton, The Plimsouls, The Psychedelic Furs, Men At Work, The Flirts and Bananarama.<br /><br />This movie truly is Romeo and Juliet (minus the double suicide) set in 1980's Los Angeles. Julie's dad, played by Frederic Forrest (Sonny Bono, anyone?) is hysterical as a hippie idealistic dad who wonders how he sprung such a materialistic offspring. Yet, he doesn't judge, ya dig??   \n",
       "18703                                                                                                                                                            Seeing the title of this movie \"Stupid Teenagers Must Die\" made me believe this was a spoof of some kind. I discovered later on the original title was \"Blood and Guts\". Both titles are misleading, though. This is not a spoof, neither a serious splatter movie. This is something in between, failing in both areas. A group of teenagers is attending a séance at a spooky house and then the killing starts. Sounds over familiar, doesn't it. Well, this movies adds nothing whatsoever to the endless stream of similar movies. And it is badly made. Because of the lack of light the entire film is grainy. Now this effect can be highly effective, but it isn't in this case. The young cast isn't acting too badly, but the director has no clue as what to do with actors. In numerous scenes the actors are clearly waiting for directions, but these are given too late. It could also be an editor's mistake, of course. The characters are unrealistic and the story line just stinks. The sound is terrible at times: conversations are undecipherable, but when talking loudly or screaming the actors are very loud indeed.<br /><br />This is not the worst horror movie I have ever seen, but it still is a bad one. For me a 3 out of 10.   \n",
       "11228                                                                                                                                                                                What is this crap? My little cousin picked this out obviously for the overly girlie DVD art and title... I decided to watch it with her so she didn't get bored, and I sure was appalled at the horrible quality.<br /><br />First, the acting was terrible. They seem like amateur actresses reading off of cue cards. The delivery is sub-par and very formulaic. Scene cuts were terrible.. it looks like they took it straight from the story board, if there was one.<br /><br />Secondly, the jokes and stereotypes weren't original or well played at all- again, very formulaic. I can't count the times I was able to predict the next joke. I got a few chuckles out of the blatantly \"subtle\" sexual innuendos. The Cat, The Beaver Patch, Hung Wong?.. c'mon! Just.. stay away from this movie. It's not cute, it's not funny, it's not even stupid-funny. It's just stupid-stupid. It's like a PG kids' movie with unnecessary sexual innuendo, vulgarity, and violence to bump the MPAA rating. STAY AWAY.<br /><br />\"Would you like to ride my yacht?\"<br /><br />\"Is that what they're calling it now?\"<br /><br />\"You could ride my ding.\"<br /><br />\"Oh! I think I got blood on my stool!\"<br /><br />Badly played, sir.   \n",
       "22910                                                                                                                                                                                                                                                                                                                                                                                                                                                                                                                                                            I'm not really sure where to begin. From start to finish, bad, stinky bad, like stepping into a port-a-john on a 100 degree day. If you force yourself to watch this as I did, keep some Vicodin handy for the pain. I will never understand how flicks this bad make it past the cutting room without the entire reel ending up on the floor. The movie is a cross between Gumby rides Pokey, meets the terminator, meets Wally Beaver playing cowboys and Indians without the cowboys. I've seen better animation in the original cut of the Blob. You will get more entertainment from watching Gone with the Wind while suffering from the puke and poops. Bad acting and hokey lines will have you squirming and wishing you had rented Peewee's big Top or watched every episode of Gilligan's Island back to back. UGH..I'm going to go slit my wrist now.   \n",
       "\n",
       "                                                                                                                                                                                                                                                                                                                                                                                                                                                                                                                                                                                                                                                                                                                                                                                                                                                           cleaned_review  \n",
       "33750  read user comment review articulate feeling throughout film predictable storyline clich version lesbiansheterosexual ie straight woman become lesbian conclude husband abusive aggressive also score severely disappointing bland soft sentimental elevator music another common clich movie lesbian movie would interesting dramatic moment destroy musica scene concern sex eroticism also strike attempt titillate raise shock value include part final performance scene conventional hot steamy moment bore overly sentimental score example pool scene woman kiss camera pan along abandon wine glass flow water sound heavy breathing soft crash wavesthe element like costume arobatic wellchoreographe development attraction two character feel natural training scene genuinely smile last scene police officer enough balance negative make enjoy film  \n",
       "12273                                                                                                                                                                                                                                                                                               happy th birthday valley girl great soundtrack plausible story wonderful performancescapture spirit slang mainstreams outcast wonderful rendition high school life gritty downtown suburban perspectivethe soundtrack contain song modern english felony josie cotton spark payola josie cotton plimsouls psychedelic fur man work flirt bananaramathis movie truly romeo juliet minus double suicide set los angeles july dad play frederic forrest sonny bono anyone hysterical hippie idealistic dad wonder spring materialistic offspring yet do not judge ya dig  \n",
       "18703                                                                                                                                      see title movie stupid teenager must die make believe spoof kind discover later original title blood gut title mislead though spoof neither serious splatter movie something fail area group teenager attend sance spooky house killing start sound familiar do not well movie add nothing whatsoever endless stream similar movie badly make lack light entire film grainy effect highly effective be not case young cast be not act badly director clue actor numerous scene actor clearly wait direction give late could also editor mistake course character unrealistic story line stink sound terrible time conversation undecipherable talk loudly scream actor loud indeedthis bad horror movie ever see still bad one  \n",
       "11228                                                                                                                                                    crap little cousin pick obviously overly girlie dvd art title decide watch do not get bored sure appal horrible qualityfirst act terrible seem like amateur actress read cue card delivery subpar formulaic scene cut terrible look like take straight story board onesecondly joke stereotype be not original well play formulaic can not count time able predict next joke get chuckle blatantly subtle sexual innuendos cat beaver patch hung wong cmon stay away movie cute funny even stupidfunny stupidstupid like pg kid movie unnecessary sexual innuendo vulgarity violence bump mpaa rating stay awaywould like ride yachtis they re call nowyou could ride dingoh think get blood stoolbadly play sir  \n",
       "22910                                                                                                                                                                                                                                                                                                                                        I m really sure begin start finish bad stinky bad like step portajohn degree day force watch keep vicodin handy pain never understand flick bad make past cutting room without entire reel end floor movie cross gumby ride pokey meet terminator meet wally beaver play cowboy indians without cowboy I ve see well animation original cut blob get entertainment watching go wind suffer puke poop bad act hokey line squirm wish rent peewee big top watch every episode gilligan island back back ughim go go slit wrist  "
      ]
     },
     "metadata": {},
     "output_type": "display_data"
    }
   ],
   "source": [
    "print(\"preprocessing all 50,000 reviews... this may take a while\")\n",
    "df = df.sample(500).copy()\n",
    "\n",
    "# Apply preprocessing to create the cleaned_review column\n",
    "df['cleaned_review'] = df['review'].apply(preprocess_text)\n",
    "\n",
    "print(\"preprocessing completed\")\n",
    "\n",
    "print(\"\\nComparing original vs cleaned reviews:\")\n",
    "display(df[['review', 'cleaned_review']].head())"
   ]
  },
  {
   "cell_type": "code",
   "execution_count": 22,
   "id": "a03953c6",
   "metadata": {},
   "outputs": [
    {
     "name": "stdout",
     "output_type": "stream",
     "text": [
      "training size set: 400\n",
      "Testing size set: 100\n"
     ]
    }
   ],
   "source": [
    "from sklearn.model_selection import train_test_split\n",
    "df['sentiment_numeric'] = df['sentiment'].map({'positive': 1, 'negative': 0})\n",
    "\n",
    "X = df[\"cleaned_review\"]\n",
    "y = df[\"sentiment_numeric\"]\n",
    "\n",
    "X_train, X_test, y_train, y_test = train_test_split(X, y, test_size=0.2, random_state=42, stratify=y)\n",
    "print(f\"training size set: {len(X_train)}\")\n",
    "print(f\"Testing size set: {len(X_test)}\")"
   ]
  },
  {
   "cell_type": "code",
   "execution_count": 23,
   "id": "d55fbf87",
   "metadata": {},
   "outputs": [
    {
     "name": "stdout",
     "output_type": "stream",
     "text": [
      "Shape of the training TF-IDF matrix: (400, 5000)\n",
      "Shape of the testing TF-IDF matrix: (100, 5000)\n"
     ]
    }
   ],
   "source": [
    "from sklearn.feature_extraction.text import TfidfVectorizer\n",
    "\n",
    "# Initialize the TF-IDF Vectorizer\n",
    "# max_features=5000 means we only use the 5000 most common words, which is efficient\n",
    "tfidf = TfidfVectorizer(max_features=5000)\n",
    "\n",
    "# Fit the vectorizer on the training data and transform it\n",
    "X_train_tfidf = tfidf.fit_transform(X_train)\n",
    "\n",
    "# ONLY transform the test data using the already-fitted vectorizer\n",
    "X_test_tfidf = tfidf.transform(X_test)\n",
    "\n",
    "print(f\"Shape of the training TF-IDF matrix: {X_train_tfidf.shape}\")\n",
    "print(f\"Shape of the testing TF-IDF matrix: {X_test_tfidf.shape}\")"
   ]
  },
  {
   "cell_type": "code",
   "execution_count": 25,
   "id": "2d9a826b",
   "metadata": {},
   "outputs": [
    {
     "name": "stdout",
     "output_type": "stream",
     "text": [
      "Model training complete!\n"
     ]
    }
   ],
   "source": [
    "from sklearn.linear_model import LogisticRegression\n",
    "\n",
    "# Initialize and train the model\n",
    "# solver='liblinear' is a good choice for this type of problem\n",
    "model = LogisticRegression(solver='liblinear')\n",
    "model.fit(X_train_tfidf, y_train)\n",
    "\n",
    "print(\"Model training complete!\")"
   ]
  },
  {
   "cell_type": "code",
   "execution_count": 26,
   "id": "ae0ddacc",
   "metadata": {},
   "outputs": [
    {
     "name": "stdout",
     "output_type": "stream",
     "text": [
      "Review: 'This movie was absolutely fantastic! The acting was superb and the plot was gripping.'\n",
      "Predicted Sentiment: Negative\n",
      "\n",
      "Review: 'I was so bored throughout the entire film. It was a complete waste of time and money.'\n",
      "Predicted Sentiment: Negative\n",
      "\n",
      "Review: 'The film was okay, not great but not terrible either. Some parts were good.'\n",
      "Predicted Sentiment: Positive\n",
      "\n"
     ]
    }
   ],
   "source": [
    "def predict_sentiment(text):\n",
    "    \"\"\"\n",
    "    Takes a raw text string and predicts its sentiment using the trained model.\n",
    "    \"\"\"\n",
    "    # 1. Preprocess the text using the same function from Cell 2\n",
    "    cleaned_text = preprocess_text(text)\n",
    "    \n",
    "    # 2. Vectorize the text using the SAME fitted TF-IDF vectorizer from Cell 5\n",
    "    vectorized_text = tfidf.transform([cleaned_text])\n",
    "    \n",
    "    # 3. Predict using the trained model from Cell 6\n",
    "    prediction = model.predict(vectorized_text)\n",
    "    \n",
    "    # 4. Return the human-readable result\n",
    "    return 'Positive' if prediction[0] == 1 else 'Negative'\n",
    "\n",
    "# --- Test Cases ---\n",
    "review_1 = \"This movie was absolutely fantastic! The acting was superb and the plot was gripping.\"\n",
    "review_2 = \"I was so bored throughout the entire film. It was a complete waste of time and money.\"\n",
    "review_3 = \"The film was okay, not great but not terrible either. Some parts were good.\"\n",
    "\n",
    "print(f\"Review: '{review_1}'\\nPredicted Sentiment: {predict_sentiment(review_1)}\\n\")\n",
    "print(f\"Review: '{review_2}'\\nPredicted Sentiment: {predict_sentiment(review_2)}\\n\")\n",
    "print(f\"Review: '{review_3}'\\nPredicted Sentiment: {predict_sentiment(review_3)}\\n\")"
   ]
  },
  {
   "cell_type": "code",
   "execution_count": 27,
   "id": "3fa0d719",
   "metadata": {},
   "outputs": [
    {
     "name": "stdout",
     "output_type": "stream",
     "text": [
      "Model Accuracy: 0.7900\n",
      "\n",
      "Classification Report:\n",
      "              precision    recall  f1-score   support\n",
      "\n",
      "    Negative       0.77      0.84      0.80        51\n",
      "    Positive       0.82      0.73      0.77        49\n",
      "\n",
      "    accuracy                           0.79       100\n",
      "   macro avg       0.79      0.79      0.79       100\n",
      "weighted avg       0.79      0.79      0.79       100\n",
      "\n"
     ]
    },
    {
     "data": {
      "image/png": "[encoded data removed]",
      "text/plain": [
       "<Figure size 600x500 with 2 Axes>"
      ]
     },
     "metadata": {},
     "output_type": "display_data"
    }
   ],
   "source": [
    "from sklearn.metrics import accuracy_score, classification_report, confusion_matrix\n",
    "import matplotlib.pyplot as plt\n",
    "import seaborn as sns\n",
    "\n",
    "# Make predictions on the test set\n",
    "y_pred = model.predict(X_test_tfidf)\n",
    "\n",
    "# Calculate accuracy\n",
    "accuracy = accuracy_score(y_test, y_pred)\n",
    "print(f\"Model Accuracy: {accuracy:.4f}\")\n",
    "\n",
    "# Print the detailed classification report\n",
    "print(\"\\nClassification Report:\")\n",
    "print(classification_report(y_test, y_pred, target_names=['Negative', 'Positive']))\n",
    "\n",
    "# Plot the confusion matrix\n",
    "cm = confusion_matrix(y_test, y_pred)\n",
    "plt.figure(figsize=(6, 5))\n",
    "sns.heatmap(cm, annot=True, fmt='d', cmap='Blues', \n",
    "            xticklabels=['Negative', 'Positive'], \n",
    "            yticklabels=['Negative', 'Positive'])\n",
    "plt.xlabel('Predicted Label')\n",
    "plt.ylabel('True Label')\n",
    "plt.title('Confusion Matrix')\n",
    "plt.show()"
   ]
  }
 ],
 "metadata": {
  "kernelspec": {
   "display_name": ".venv",
   "language": "python",
   "name": "python3"
  },
  "language_info": {
   "codemirror_mode": {
    "name": "ipython",
    "version": 3
   },
   "file_extension": ".py",
   "mimetype": "text/x-python",
   "name": "python",
   "nbconvert_exporter": "python",
   "pygments_lexer": "ipython3",
   "version": "3.12.3"
  }
 },
 "nbformat": 4,
 "nbformat_minor": 5
}
